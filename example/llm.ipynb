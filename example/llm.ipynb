{
 "cells": [
  {
   "cell_type": "code",
   "execution_count": 1,
   "id": "9f174d51",
   "metadata": {},
   "outputs": [],
   "source": [
    "import sys\n",
    "sys.path.append('..')"
   ]
  },
  {
   "cell_type": "code",
   "execution_count": 2,
   "id": "afdf0286",
   "metadata": {},
   "outputs": [
    {
     "data": {
      "text/plain": [
       "True"
      ]
     },
     "execution_count": 2,
     "metadata": {},
     "output_type": "execute_result"
    }
   ],
   "source": [
    "from dotenv import load_dotenv\n",
    "\n",
    "load_dotenv()"
   ]
  },
  {
   "cell_type": "code",
   "execution_count": 3,
   "id": "9dbd551c",
   "metadata": {},
   "outputs": [],
   "source": [
    "import os\n",
    "\n",
    "OPENAI_KEY = os.environ.get('OPENAI_API_KEY')"
   ]
  },
  {
   "cell_type": "code",
   "execution_count": 4,
   "id": "2f4e6922",
   "metadata": {},
   "outputs": [],
   "source": [
    "from mindscope.components.llm import llm\n",
    "from mindscope.components.models.datamodels import  GenerationConfig"
   ]
  },
  {
   "cell_type": "code",
   "execution_count": 5,
   "id": "49f0625a",
   "metadata": {},
   "outputs": [
    {
     "name": "stdout",
     "output_type": "stream",
     "text": [
      "temperature=0.8 model=None provider='openai' max_tokens=250 top_k=25 top_p=1.0\n"
     ]
    }
   ],
   "source": [
    "config = GenerationConfig()\n",
    "print(config)"
   ]
  },
  {
   "cell_type": "code",
   "execution_count": 6,
   "id": "c74c8f4a",
   "metadata": {},
   "outputs": [],
   "source": [
    "client = llm(provider=\"openai\", api_key = OPENAI_KEY)"
   ]
  },
  {
   "cell_type": "code",
   "execution_count": 7,
   "id": "5484180a",
   "metadata": {},
   "outputs": [
    {
     "data": {
      "text/plain": [
       "{'chat': True, 'completion': True, 'embedding': False}"
      ]
     },
     "execution_count": 7,
     "metadata": {},
     "output_type": "execute_result"
    }
   ],
   "source": [
    "client.capabilities"
   ]
  },
  {
   "cell_type": "code",
   "execution_count": 8,
   "id": "d6232fb7",
   "metadata": {},
   "outputs": [
    {
     "data": {
      "text/plain": [
       "mindscope.components.llm.openai.OpenAIClient"
      ]
     },
     "execution_count": 8,
     "metadata": {},
     "output_type": "execute_result"
    }
   ],
   "source": [
    "client.__class__"
   ]
  },
  {
   "cell_type": "code",
   "execution_count": 9,
   "id": "a6c0a061",
   "metadata": {},
   "outputs": [
    {
     "data": {
      "text/plain": [
       "'This is generate text function called'"
      ]
     },
     "execution_count": 9,
     "metadata": {},
     "output_type": "execute_result"
    }
   ],
   "source": [
    "client.generate_text(\"This is prompt\")"
   ]
  },
  {
   "cell_type": "code",
   "execution_count": 12,
   "id": "0a09d4d3",
   "metadata": {},
   "outputs": [
    {
     "name": "stdout",
     "output_type": "stream",
     "text": [
      "{'model': 'gpt-3.5-turbo', 'temperature': 0.8, 'max_tokens': 250, 'top_p': 1.0, 'messages': [{'role': 'system', 'content': 'You are a helpful assistant that can explain concepts clearly to a 6 year old child.'}, {'role': 'user', 'content': 'What is  gravity?'}]}\n",
      "<openai.OpenAI object at 0x0000025236330230>\n",
      "ChatCompletion(id='chatcmpl-C7m1oKACBTBNuyhhqCe9tykgOKMjC', choices=[Choice(finish_reason='stop', index=0, logprobs=None, message=ChatCompletionMessage(content=\"Gravity is like a big invisible force that pulls things towards each other. It's what keeps you on the ground instead of floating up into the sky. Imagine it like a big hug from the Earth that keeps everything in place!\", refusal=None, role='assistant', annotations=[], audio=None, function_call=None, tool_calls=None))], created=1755968952, model='gpt-3.5-turbo-0125', object='chat.completion', service_tier='default', system_fingerprint=None, usage=CompletionUsage(completion_tokens=45, prompt_tokens=34, total_tokens=79, completion_tokens_details=CompletionTokensDetails(accepted_prediction_tokens=0, audio_tokens=0, reasoning_tokens=0, rejected_prediction_tokens=0), prompt_tokens_details=PromptTokensDetails(audio_tokens=0, cached_tokens=0)))\n"
     ]
    }
   ],
   "source": [
    "messages = [\n",
    "    {\n",
    "        \"role\": \"system\",\n",
    "        \"content\": \"You are a helpful assistant that can explain concepts clearly to a 6 year old child.\",\n",
    "    },\n",
    "    {\"role\": \"user\", \"content\": \"What is  gravity?\"},\n",
    "]\n",
    "\n",
    "response = client.chat(messages)"
   ]
  },
  {
   "cell_type": "code",
   "execution_count": 19,
   "id": "ce5e7437",
   "metadata": {},
   "outputs": [
    {
     "data": {
      "text/plain": [
       "\"Gravity is like a big invisible force that pulls things towards each other. It's what keeps you on the ground instead of floating up into the sky. Imagine it like a big hug from the Earth that keeps everything in place!\""
      ]
     },
     "execution_count": 19,
     "metadata": {},
     "output_type": "execute_result"
    }
   ],
   "source": [
    "response.text[0].content"
   ]
  }
 ],
 "metadata": {
  "kernelspec": {
   "display_name": "venv",
   "language": "python",
   "name": "python3"
  },
  "language_info": {
   "codemirror_mode": {
    "name": "ipython",
    "version": 3
   },
   "file_extension": ".py",
   "mimetype": "text/x-python",
   "name": "python",
   "nbconvert_exporter": "python",
   "pygments_lexer": "ipython3",
   "version": "3.12.3"
  }
 },
 "nbformat": 4,
 "nbformat_minor": 5
}
