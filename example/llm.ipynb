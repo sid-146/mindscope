{
 "cells": [
  {
   "cell_type": "code",
   "execution_count": 1,
   "id": "9f174d51",
   "metadata": {},
   "outputs": [],
   "source": [
    "import sys\n",
    "sys.path.append('..')"
   ]
  },
  {
   "cell_type": "code",
   "execution_count": 2,
   "id": "2f4e6922",
   "metadata": {},
   "outputs": [],
   "source": [
    "from mindscope.components.llm import llm\n",
    "from mindscope.components.models.datamodels import  GenerationConfig"
   ]
  },
  {
   "cell_type": "code",
   "execution_count": 9,
   "id": "49f0625a",
   "metadata": {},
   "outputs": [
    {
     "name": "stdout",
     "output_type": "stream",
     "text": [
      "temperature=0.8 model='gpt-4o-mini' provider='openai' max_token=None top_k=25 top_p=1.0\n"
     ]
    }
   ],
   "source": [
    "config = GenerationConfig()\n",
    "print(config)"
   ]
  },
  {
   "cell_type": "code",
   "execution_count": 3,
   "id": "c74c8f4a",
   "metadata": {},
   "outputs": [
    {
     "name": "stdout",
     "output_type": "stream",
     "text": [
      "Open AI Client Created\n"
     ]
    }
   ],
   "source": [
    "client = llm(provider=\"openai\", api_key= 'my_api_key')"
   ]
  },
  {
   "cell_type": "code",
   "execution_count": 4,
   "id": "5484180a",
   "metadata": {},
   "outputs": [
    {
     "data": {
      "text/plain": [
       "{'chat': True, 'completion': True, 'embedding': False}"
      ]
     },
     "execution_count": 4,
     "metadata": {},
     "output_type": "execute_result"
    }
   ],
   "source": [
    "client.capabilities"
   ]
  },
  {
   "cell_type": "code",
   "execution_count": 5,
   "id": "d6232fb7",
   "metadata": {},
   "outputs": [
    {
     "data": {
      "text/plain": [
       "mindscope.components.llm.openai.OpenAIClient"
      ]
     },
     "execution_count": 5,
     "metadata": {},
     "output_type": "execute_result"
    }
   ],
   "source": [
    "client.__class__"
   ]
  },
  {
   "cell_type": "code",
   "execution_count": 7,
   "id": "a6c0a061",
   "metadata": {},
   "outputs": [
    {
     "data": {
      "text/plain": [
       "'This is generate text function called'"
      ]
     },
     "execution_count": 7,
     "metadata": {},
     "output_type": "execute_result"
    }
   ],
   "source": [
    "client.generate_text(\"This is prompt\")"
   ]
  },
  {
   "cell_type": "code",
   "execution_count": 8,
   "id": "0a09d4d3",
   "metadata": {},
   "outputs": [
    {
     "data": {
      "text/plain": [
       "'This is chat function called.'"
      ]
     },
     "execution_count": 8,
     "metadata": {},
     "output_type": "execute_result"
    }
   ],
   "source": [
    "client.chat('This is message')"
   ]
  }
 ],
 "metadata": {
  "kernelspec": {
   "display_name": "venv",
   "language": "python",
   "name": "python3"
  },
  "language_info": {
   "codemirror_mode": {
    "name": "ipython",
    "version": 3
   },
   "file_extension": ".py",
   "mimetype": "text/x-python",
   "name": "python",
   "nbconvert_exporter": "python",
   "pygments_lexer": "ipython3",
   "version": "3.12.3"
  }
 },
 "nbformat": 4,
 "nbformat_minor": 5
}
