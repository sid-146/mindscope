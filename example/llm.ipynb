{
 "cells": [
  {
   "cell_type": "code",
   "execution_count": 1,
   "id": "9f174d51",
   "metadata": {},
   "outputs": [],
   "source": [
    "import sys\n",
    "sys.path.append('..')"
   ]
  },
  {
   "cell_type": "code",
   "execution_count": 2,
   "id": "afdf0286",
   "metadata": {},
   "outputs": [
    {
     "data": {
      "text/plain": [
       "True"
      ]
     },
     "execution_count": 2,
     "metadata": {},
     "output_type": "execute_result"
    }
   ],
   "source": [
    "from dotenv import load_dotenv\n",
    "\n",
    "load_dotenv()"
   ]
  },
  {
   "cell_type": "code",
   "execution_count": 3,
   "id": "9dbd551c",
   "metadata": {},
   "outputs": [],
   "source": [
    "import os\n",
    "\n",
    "OPENAI_KEY = os.environ.get('OPENAI_API_KEY')"
   ]
  },
  {
   "cell_type": "code",
   "execution_count": 4,
   "id": "2f4e6922",
   "metadata": {},
   "outputs": [],
   "source": [
    "from mindscope.components.llm import llm\n",
    "from mindscope.components.models.datamodels import  GenerationConfig"
   ]
  },
  {
   "cell_type": "code",
   "execution_count": 5,
   "id": "49f0625a",
   "metadata": {},
   "outputs": [
    {
     "name": "stdout",
     "output_type": "stream",
     "text": [
      "temperature=0.8 model_name=None provider='openai' max_tokens=250 top_k=25 top_p=1.0\n"
     ]
    }
   ],
   "source": [
    "config = GenerationConfig()\n",
    "print(config)"
   ]
  },
  {
   "cell_type": "code",
   "execution_count": 6,
   "id": "c74c8f4a",
   "metadata": {},
   "outputs": [],
   "source": [
    "client = llm(provider=\"openai\", api_key = OPENAI_KEY)"
   ]
  },
  {
   "cell_type": "code",
   "execution_count": 7,
   "id": "5484180a",
   "metadata": {},
   "outputs": [
    {
     "data": {
      "text/plain": [
       "{'chat': True, 'completion': True, 'embedding': False}"
      ]
     },
     "execution_count": 7,
     "metadata": {},
     "output_type": "execute_result"
    }
   ],
   "source": [
    "client.capabilities"
   ]
  },
  {
   "cell_type": "code",
   "execution_count": 8,
   "id": "d6232fb7",
   "metadata": {},
   "outputs": [
    {
     "data": {
      "text/plain": [
       "mindscope.components.llm.openai.OpenAIClient"
      ]
     },
     "execution_count": 8,
     "metadata": {},
     "output_type": "execute_result"
    }
   ],
   "source": [
    "client.__class__"
   ]
  },
  {
   "cell_type": "code",
   "execution_count": 9,
   "id": "a6c0a061",
   "metadata": {},
   "outputs": [
    {
     "data": {
      "text/plain": [
       "'This is generate text function called'"
      ]
     },
     "execution_count": 9,
     "metadata": {},
     "output_type": "execute_result"
    }
   ],
   "source": [
    "client.generate_text(\"This is prompt\")"
   ]
  },
  {
   "cell_type": "code",
   "execution_count": 10,
   "id": "0a09d4d3",
   "metadata": {},
   "outputs": [
    {
     "name": "stdout",
     "output_type": "stream",
     "text": [
      "{'model': 'gpt-4o-mini', 'temperature': 0.8, 'max_tokens': 250, 'top_p': 1.0, 'messages': [{'role': 'system', 'content': 'You are a helpful assistant that can explain concepts clearly to a 6 year old child.'}, {'role': 'user', 'content': 'What is  gravity?'}]}\n",
      "ChatCompletion(id='chatcmpl-C7mDNSuz6jpUTlZnyZ5yGiZ1tWtjN', choices=[Choice(finish_reason='stop', index=0, logprobs=None, message=ChatCompletionMessage(content='Okay! Imagine you have a big, heavy ball like a bowling ball. If you put it on a trampoline, it makes a dent, right? That dent is like what gravity does! \\n\\nGravity is a force that pulls things towards each other. The Earth is really big and heavy, and it pulls everything towards it. That’s why when you jump, you come back down! It’s like the Earth is giving you a big hug to keep you close. \\n\\nSo, gravity helps keep us on the ground, makes things fall, and even keeps the moon going around the Earth! Would you like to know more about it?', refusal=None, role='assistant', annotations=[], audio=None, function_call=None, tool_calls=None))], created=1755969669, model='gpt-4o-mini-2024-07-18', object='chat.completion', service_tier='default', system_fingerprint='fp_560af6e559', usage=CompletionUsage(completion_tokens=127, prompt_tokens=34, total_tokens=161, completion_tokens_details=CompletionTokensDetails(accepted_prediction_tokens=0, audio_tokens=0, reasoning_tokens=0, rejected_prediction_tokens=0), prompt_tokens_details=PromptTokensDetails(audio_tokens=0, cached_tokens=0)))\n"
     ]
    }
   ],
   "source": [
    "messages = [\n",
    "    {\n",
    "        \"role\": \"system\",\n",
    "        \"content\": \"You are a helpful assistant that can explain concepts clearly to a 6 year old child.\",\n",
    "    },\n",
    "    {\"role\": \"user\", \"content\": \"What is  gravity?\"},\n",
    "]\n",
    "\n",
    "response = client.chat(messages)"
   ]
  },
  {
   "cell_type": "code",
   "execution_count": null,
   "id": "2c6644e6",
   "metadata": {},
   "outputs": [],
   "source": [
    "# This is sample output of chat completion object of OpenAI SDK.\n",
    "\n",
    "# ChatCompletion(\n",
    "#     id=\"chatcmpl-C7mDNSuz6jpUTlZnyZ5yGiZ1tWtjN\",\n",
    "#     choices=[\n",
    "#         Choice(\n",
    "#             finish_reason=\"stop\",\n",
    "#             index=0,\n",
    "#             logprobs=None,\n",
    "#             message=ChatCompletionMessage(\n",
    "#                 content=\"Okay! Imagine you have a big, heavy ball like a bowling ball. If you put it on a trampoline, it makes a dent, right? That dent is like what gravity does! \\n\\nGravity is a force that pulls things towards each other. The Earth is really big and heavy, and it pulls everything towards it. That’s why when you jump, you come back down! It’s like the Earth is giving you a big hug to keep you close. \\n\\nSo, gravity helps keep us on the ground, makes things fall, and even keeps the moon going around the Earth! Would you like to know more about it?\",\n",
    "#                 refusal=None,\n",
    "#                 role=\"assistant\",\n",
    "#                 annotations=[],\n",
    "#                 audio=None,\n",
    "#                 function_call=None,\n",
    "#                 tool_calls=None,\n",
    "#             ),\n",
    "#         )\n",
    "#     ],\n",
    "#     created=1755969669,\n",
    "#     model=\"gpt-4o-mini-2024-07-18\",\n",
    "#     object=\"chat.completion\",\n",
    "#     service_tier=\"default\",\n",
    "#     system_fingerprint=\"fp_560af6e559\",\n",
    "#     usage=CompletionUsage(\n",
    "#         completion_tokens=127,\n",
    "#         prompt_tokens=34,\n",
    "#         total_tokens=161,\n",
    "#         completion_tokens_details=CompletionTokensDetails(\n",
    "#             accepted_prediction_tokens=0,\n",
    "#             audio_tokens=0,\n",
    "#             reasoning_tokens=0,\n",
    "#             rejected_prediction_tokens=0,\n",
    "#         ),\n",
    "#         prompt_tokens_details=PromptTokensDetails(audio_tokens=0, cached_tokens=0),\n",
    "#     ),\n",
    "# )"
   ]
  },
  {
   "cell_type": "code",
   "execution_count": 13,
   "id": "ce5e7437",
   "metadata": {},
   "outputs": [
    {
     "name": "stdout",
     "output_type": "stream",
     "text": [
      "Okay! Imagine you have a big, heavy ball like a bowling ball. If you put it on a trampoline, it makes a dent, right? That dent is like what gravity does! \n",
      "\n",
      "Gravity is a force that pulls things towards each other. The Earth is really big and heavy, and it pulls everything towards it. That’s why when you jump, you come back down! It’s like the Earth is giving you a big hug to keep you close. \n",
      "\n",
      "So, gravity helps keep us on the ground, makes things fall, and even keeps the moon going around the Earth! Would you like to know more about it?\n"
     ]
    }
   ],
   "source": [
    "print(response.text[0].content)"
   ]
  }
 ],
 "metadata": {
  "kernelspec": {
   "display_name": "venv",
   "language": "python",
   "name": "python3"
  },
  "language_info": {
   "codemirror_mode": {
    "name": "ipython",
    "version": 3
   },
   "file_extension": ".py",
   "mimetype": "text/x-python",
   "name": "python",
   "nbconvert_exporter": "python",
   "pygments_lexer": "ipython3",
   "version": "3.12.3"
  }
 },
 "nbformat": 4,
 "nbformat_minor": 5
}
