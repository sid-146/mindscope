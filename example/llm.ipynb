{
 "cells": [
  {
   "cell_type": "code",
   "execution_count": 2,
   "id": "9f174d51",
   "metadata": {},
   "outputs": [],
   "source": [
    "import sys\n",
    "sys.path.append('..')"
   ]
  },
  {
   "cell_type": "code",
   "execution_count": 3,
   "id": "afdf0286",
   "metadata": {},
   "outputs": [
    {
     "data": {
      "text/plain": [
       "True"
      ]
     },
     "execution_count": 3,
     "metadata": {},
     "output_type": "execute_result"
    }
   ],
   "source": [
    "from dotenv import load_dotenv\n",
    "\n",
    "load_dotenv()"
   ]
  },
  {
   "cell_type": "code",
   "execution_count": 4,
   "id": "9dbd551c",
   "metadata": {},
   "outputs": [],
   "source": [
    "import os\n",
    "\n",
    "OPENAI_KEY = os.environ.get('OPENAI_API_KEY')"
   ]
  },
  {
   "cell_type": "code",
   "execution_count": 5,
   "id": "2f4e6922",
   "metadata": {},
   "outputs": [],
   "source": [
    "from mindscope.components.llm import llm\n",
    "from mindscope.components.models import  GenerationConfig"
   ]
  },
  {
   "cell_type": "code",
   "execution_count": 6,
   "id": "49f0625a",
   "metadata": {},
   "outputs": [
    {
     "name": "stdout",
     "output_type": "stream",
     "text": [
      "temperature=0.8 model_name=None provider=None max_tokens=250 top_k=25 top_p=1.0\n"
     ]
    }
   ],
   "source": [
    "config = GenerationConfig()\n",
    "print(config)"
   ]
  },
  {
   "cell_type": "code",
   "execution_count": 7,
   "id": "c74c8f4a",
   "metadata": {},
   "outputs": [],
   "source": [
    "client = llm(provider=\"openai\", api_key = OPENAI_KEY)"
   ]
  },
  {
   "cell_type": "code",
   "execution_count": 8,
   "id": "5484180a",
   "metadata": {},
   "outputs": [
    {
     "data": {
      "text/plain": [
       "{'chat': True, 'completion': True, 'embedding': False}"
      ]
     },
     "execution_count": 8,
     "metadata": {},
     "output_type": "execute_result"
    }
   ],
   "source": [
    "client.capabilities"
   ]
  },
  {
   "cell_type": "code",
   "execution_count": 9,
   "id": "d6232fb7",
   "metadata": {},
   "outputs": [
    {
     "data": {
      "text/plain": [
       "mindscope.components.llm.openai.OpenAIClient"
      ]
     },
     "execution_count": 9,
     "metadata": {},
     "output_type": "execute_result"
    }
   ],
   "source": [
    "client.__class__"
   ]
  },
  {
   "cell_type": "code",
   "execution_count": 11,
   "id": "0a09d4d3",
   "metadata": {},
   "outputs": [],
   "source": [
    "messages = [\n",
    "    {\n",
    "        \"role\": \"system\",\n",
    "        \"content\": \"You are a helpful assistant that can explain concepts clearly to a 6 year old child.\",\n",
    "    },\n",
    "    {\"role\": \"user\", \"content\": \"What is  gravity?\"},\n",
    "]\n",
    "\n",
    "response = client.chat(messages)"
   ]
  },
  {
   "cell_type": "code",
   "execution_count": 14,
   "id": "4d5df170",
   "metadata": {},
   "outputs": [
    {
     "data": {
      "text/plain": [
       "\"Gravity is a force that pulls things towards each other. Imagine you have a big ball, like the Earth, and a smaller ball, like a toy. The Earth is very big, so it pulls the toy towards it. That's why when you jump up, you always come back down! Gravity is what keeps us on the ground and makes sure everything stays in its place. It’s like an invisible hand that holds things close!\""
      ]
     },
     "execution_count": 14,
     "metadata": {},
     "output_type": "execute_result"
    }
   ],
   "source": [
    "response.text[0].content"
   ]
  },
  {
   "cell_type": "code",
   "execution_count": null,
   "id": "2c6644e6",
   "metadata": {},
   "outputs": [],
   "source": [
    "# This is sample output of chat completion object of OpenAI SDK.\n",
    "\n",
    "# ChatCompletion(\n",
    "#     id=\"chatcmpl-C7mDNSuz6jpUTlZnyZ5yGiZ1tWtjN\",\n",
    "#     choices=[\n",
    "#         Choice(\n",
    "#             finish_reason=\"stop\",\n",
    "#             index=0,\n",
    "#             logprobs=None,\n",
    "#             message=ChatCompletionMessage(\n",
    "#                 content=\"Okay! Imagine you have a big, heavy ball like a bowling ball. If you put it on a trampoline, it makes a dent, right? That dent is like what gravity does! \\n\\nGravity is a force that pulls things towards each other. The Earth is really big and heavy, and it pulls everything towards it. That’s why when you jump, you come back down! It’s like the Earth is giving you a big hug to keep you close. \\n\\nSo, gravity helps keep us on the ground, makes things fall, and even keeps the moon going around the Earth! Would you like to know more about it?\",\n",
    "#                 refusal=None,\n",
    "#                 role=\"assistant\",\n",
    "#                 annotations=[],\n",
    "#                 audio=None,\n",
    "#                 function_call=None,\n",
    "#                 tool_calls=None,\n",
    "#             ),\n",
    "#         )\n",
    "#     ],\n",
    "#     created=1755969669,\n",
    "#     model=\"gpt-4o-mini-2024-07-18\",\n",
    "#     object=\"chat.completion\",\n",
    "#     service_tier=\"default\",\n",
    "#     system_fingerprint=\"fp_560af6e559\",\n",
    "#     usage=CompletionUsage(\n",
    "#         completion_tokens=127,\n",
    "#         prompt_tokens=34,\n",
    "#         total_tokens=161,\n",
    "#         completion_tokens_details=CompletionTokensDetails(\n",
    "#             accepted_prediction_tokens=0,\n",
    "#             audio_tokens=0,\n",
    "#             reasoning_tokens=0,\n",
    "#             rejected_prediction_tokens=0,\n",
    "#         ),\n",
    "#         prompt_tokens_details=PromptTokensDetails(audio_tokens=0, cached_tokens=0),\n",
    "#     ),\n",
    "# )"
   ]
  },
  {
   "cell_type": "markdown",
   "id": "a3f3e93d",
   "metadata": {},
   "source": [
    "## Testing Parsed Content"
   ]
  },
  {
   "cell_type": "code",
   "execution_count": 16,
   "id": "49aaa724",
   "metadata": {},
   "outputs": [],
   "source": [
    "from pydantic import BaseModel\n",
    "\n",
    "\n",
    "class Joke(BaseModel):\n",
    "    setup: str\n",
    "    punchline: str\n",
    "\n",
    "\n",
    "messages = [\n",
    "    {\"role\": \"system\", \"content\": \"You are a comedian who makes dad jokes on the go\"},\n",
    "    {\"role\": \"user\", \"content\": \"Tell me a dad joke.\"},\n",
    "]\n",
    "\n",
    "joke = client.generate_text(messages, config, Joke)"
   ]
  },
  {
   "cell_type": "code",
   "execution_count": 18,
   "id": "bc76ba76",
   "metadata": {},
   "outputs": [
    {
     "data": {
      "text/plain": [
       "LLMResponse(text=[Message(role='assistant', content='{\"setup\":\"Why did the scarecrow win an award?\",\"punchline\":\"Because he was outstanding in his field!\"}')], config=GenerationConfig(temperature=0.8, model_name='gpt-4o-mini', provider=None, max_tokens=250, top_k=25, top_p=1.0), logprobs=None, usage={'completion_tokens': 26, 'prompt_tokens': 77, 'total_tokens': 103, 'completion_tokens_details': CompletionTokensDetails(accepted_prediction_tokens=0, audio_tokens=0, reasoning_tokens=0, rejected_prediction_tokens=0), 'prompt_tokens_details': PromptTokensDetails(audio_tokens=0, cached_tokens=0)}, response=None)"
      ]
     },
     "execution_count": 18,
     "metadata": {},
     "output_type": "execute_result"
    }
   ],
   "source": [
    "joke"
   ]
  },
  {
   "cell_type": "code",
   "execution_count": 17,
   "id": "ce2e7335",
   "metadata": {},
   "outputs": [
    {
     "data": {
      "text/plain": [
       "'{\"setup\":\"Why did the scarecrow win an award?\",\"punchline\":\"Because he was outstanding in his field!\"}'"
      ]
     },
     "execution_count": 17,
     "metadata": {},
     "output_type": "execute_result"
    }
   ],
   "source": [
    "joke.text[0].content"
   ]
  }
 ],
 "metadata": {
  "kernelspec": {
   "display_name": "venv",
   "language": "python",
   "name": "python3"
  },
  "language_info": {
   "codemirror_mode": {
    "name": "ipython",
    "version": 3
   },
   "file_extension": ".py",
   "mimetype": "text/x-python",
   "name": "python",
   "nbconvert_exporter": "python",
   "pygments_lexer": "ipython3",
   "version": "3.12.3"
  }
 },
 "nbformat": 4,
 "nbformat_minor": 5
}
