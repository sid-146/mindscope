{
 "cells": [
  {
   "cell_type": "code",
   "execution_count": 1,
   "id": "9f174d51",
   "metadata": {},
   "outputs": [],
   "source": [
    "import sys\n",
    "sys.path.append('..')"
   ]
  },
  {
   "cell_type": "code",
   "execution_count": 2,
   "id": "2f4e6922",
   "metadata": {},
   "outputs": [],
   "source": [
    "from mindscope.components.llm import llm"
   ]
  },
  {
   "cell_type": "code",
   "execution_count": 3,
   "id": "c74c8f4a",
   "metadata": {},
   "outputs": [
    {
     "name": "stdout",
     "output_type": "stream",
     "text": [
      "Open AI Client Created\n"
     ]
    }
   ],
   "source": [
    "client = llm(provider=\"openai\")"
   ]
  },
  {
   "cell_type": "code",
   "execution_count": 4,
   "id": "d6232fb7",
   "metadata": {},
   "outputs": [
    {
     "data": {
      "text/plain": [
       "mindscope.components.llm.openai.OpenAIClient"
      ]
     },
     "execution_count": 4,
     "metadata": {},
     "output_type": "execute_result"
    }
   ],
   "source": [
    "client.__class__"
   ]
  },
  {
   "cell_type": "code",
   "execution_count": null,
   "id": "0a09d4d3",
   "metadata": {},
   "outputs": [],
   "source": []
  },
  {
   "cell_type": "code",
   "execution_count": null,
   "id": "20af1764",
   "metadata": {},
   "outputs": [],
   "source": []
  }
 ],
 "metadata": {
  "kernelspec": {
   "display_name": "venv",
   "language": "python",
   "name": "python3"
  },
  "language_info": {
   "codemirror_mode": {
    "name": "ipython",
    "version": 3
   },
   "file_extension": ".py",
   "mimetype": "text/x-python",
   "name": "python",
   "nbconvert_exporter": "python",
   "pygments_lexer": "ipython3",
   "version": "3.12.3"
  }
 },
 "nbformat": 4,
 "nbformat_minor": 5
}
