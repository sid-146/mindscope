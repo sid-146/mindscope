{
 "cells": [
  {
   "cell_type": "code",
   "execution_count": 1,
   "id": "1fe9dc95",
   "metadata": {},
   "outputs": [],
   "source": [
    "import sys\n",
    "\n",
    "sys.path.append(\"..\")"
   ]
  },
  {
   "cell_type": "code",
   "execution_count": 5,
   "id": "675146e9",
   "metadata": {},
   "outputs": [],
   "source": [
    "import polars as pl"
   ]
  },
  {
   "cell_type": "code",
   "execution_count": 3,
   "id": "afd706b1",
   "metadata": {},
   "outputs": [],
   "source": [
    "from mindscope.components import Summarizer"
   ]
  },
  {
   "cell_type": "code",
   "execution_count": 7,
   "id": "d03db32f",
   "metadata": {},
   "outputs": [],
   "source": [
    "df = pl.read_csv(\"../test/1000_rows_dataset.csv\")"
   ]
  },
  {
   "cell_type": "code",
   "execution_count": 9,
   "id": "35d13e91",
   "metadata": {},
   "outputs": [],
   "source": [
    "summarizer = Summarizer(data=df)"
   ]
  },
  {
   "cell_type": "code",
   "execution_count": 11,
   "id": "c03b411b",
   "metadata": {},
   "outputs": [
    {
     "data": {
      "text/plain": [
       "{'filename': '',\n",
       " 'name': '',\n",
       " 'description': '',\n",
       " 'columns': [{'column': 'product_id',\n",
       "   'type': 'numeric',\n",
       "   'dtype': 'Int64',\n",
       "   'min': 1000,\n",
       "   'max': 1999,\n",
       "   'mean': 1499.5,\n",
       "   'median': 1499.5,\n",
       "   'std': 288.8194360957494,\n",
       "   'null_count': 0,\n",
       "   'not_null_count': 1000,\n",
       "   'samples': [1045, 1295, 1716, 1528, 1280, 1095, 1557, 1925, 1723, 1657]},\n",
       "  {'column': 'price',\n",
       "   'type': 'numeric',\n",
       "   'dtype': 'Float64',\n",
       "   'min': 5.44,\n",
       "   'max': 99.97,\n",
       "   'mean': 51.57424,\n",
       "   'median': 52.195,\n",
       "   'std': 27.75315905369801,\n",
       "   'null_count': 0,\n",
       "   'not_null_count': 1000,\n",
       "   'samples': [12.73,\n",
       "    28.18,\n",
       "    24.61,\n",
       "    30.72,\n",
       "    90.61,\n",
       "    38.34,\n",
       "    54.85,\n",
       "    59.14,\n",
       "    27.76,\n",
       "    39.03]},\n",
       "  {'column': 'category',\n",
       "   'type': 'categorical string',\n",
       "   'dtype': 'String',\n",
       "   'categories': ['A', 'B', 'C', 'D'],\n",
       "   'n_categories': 4,\n",
       "   'null_count': 0,\n",
       "   'not_null_count': 1000,\n",
       "   'samples': ['D', 'C', 'D', 'D', 'D', 'C', 'A', 'A', 'C', 'D']},\n",
       "  {'column': 'in_stock',\n",
       "   'type': 'boolean',\n",
       "   'dtype': 'Boolean',\n",
       "   'true_count': 476,\n",
       "   'false_count': 524,\n",
       "   'null_count': 0,\n",
       "   'not_null_count': 1000,\n",
       "   'samples': [True,\n",
       "    False,\n",
       "    True,\n",
       "    False,\n",
       "    False,\n",
       "    False,\n",
       "    True,\n",
       "    False,\n",
       "    True,\n",
       "    False]},\n",
       "  {'column': 'launch_date',\n",
       "   'dtype': 'String',\n",
       "   'type': 'date-like string',\n",
       "   'min_date': datetime.datetime(2020, 1, 1, 0, 0),\n",
       "   'max_date': datetime.datetime(2025, 6, 22, 0, 0),\n",
       "   'null_count': 0,\n",
       "   'not_null_count': 1000,\n",
       "   'min_max_diff': datetime.timedelta(days=1999),\n",
       "   'parsed_success_rate': 1.0,\n",
       "   'samples': ['2020-04-27',\n",
       "    '2022-03-28',\n",
       "    '2024-07-18',\n",
       "    '2022-07-27',\n",
       "    '2024-07-10',\n",
       "    '2023-01-03',\n",
       "    '2020-12-22',\n",
       "    '2021-03-09',\n",
       "    '2021-05-29',\n",
       "    '2023-02-20']},\n",
       "  {'column': 'last_order',\n",
       "   'dtype': 'String',\n",
       "   'type': 'date-like string',\n",
       "   'min_date': datetime.datetime(2023, 1, 2, 0, 0),\n",
       "   'max_date': datetime.datetime(2025, 9, 24, 0, 0),\n",
       "   'null_count': 0,\n",
       "   'not_null_count': 1000,\n",
       "   'min_max_diff': datetime.timedelta(days=996),\n",
       "   'parsed_success_rate': 0.963,\n",
       "   'samples': ['2025-04-14',\n",
       "    '2024-09-02',\n",
       "    '2024-05-26',\n",
       "    '2024-04-20',\n",
       "    '2024-08-05',\n",
       "    '2023-03-29',\n",
       "    '2023-05-17',\n",
       "    '2025-01-29',\n",
       "    '2024-03-22',\n",
       "    '2024-06-11']},\n",
       "  {'column': 'status',\n",
       "   'type': 'categorical string',\n",
       "   'dtype': 'String',\n",
       "   'categories': ['active', 'discontinued', 'inactive'],\n",
       "   'n_categories': 3,\n",
       "   'null_count': 0,\n",
       "   'not_null_count': 1000,\n",
       "   'samples': ['discontinued',\n",
       "    'discontinued',\n",
       "    'active',\n",
       "    'discontinued',\n",
       "    'active',\n",
       "    'discontinued',\n",
       "    'inactive',\n",
       "    'inactive',\n",
       "    'active',\n",
       "    'discontinued']}]}"
      ]
     },
     "execution_count": 11,
     "metadata": {},
     "output_type": "execute_result"
    }
   ],
   "source": [
    "summarizer.summarize(n_samples=10, enrich=False)"
   ]
  }
 ],
 "metadata": {
  "kernelspec": {
   "display_name": "venv",
   "language": "python",
   "name": "python3"
  },
  "language_info": {
   "codemirror_mode": {
    "name": "ipython",
    "version": 3
   },
   "file_extension": ".py",
   "mimetype": "text/x-python",
   "name": "python",
   "nbconvert_exporter": "python",
   "pygments_lexer": "ipython3",
   "version": "3.12.3"
  }
 },
 "nbformat": 4,
 "nbformat_minor": 5
}
