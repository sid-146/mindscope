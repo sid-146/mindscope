{
 "cells": [
  {
   "cell_type": "code",
   "execution_count": null,
   "id": "1fe9dc95",
   "metadata": {},
   "outputs": [],
   "source": [
    "import sys\n",
    "\n",
    "sys.path.append(\"..\")"
   ]
  },
  {
   "cell_type": "code",
   "execution_count": null,
   "id": "675146e9",
   "metadata": {},
   "outputs": [],
   "source": [
    "import polars as pl\n",
    "from mindscope.components import Summarizer"
   ]
  },
  {
   "cell_type": "code",
   "execution_count": null,
   "id": "afd706b1",
   "metadata": {},
   "outputs": [],
   "source": [
    "df = pl.read_csv(\"../test/1000_rows_dataset.csv\")"
   ]
  },
  {
   "cell_type": "code",
   "execution_count": null,
   "id": "d03db32f",
   "metadata": {},
   "outputs": [],
   "source": [
    "summarizer = Summarizer(data=df)"
   ]
  },
  {
   "cell_type": "code",
   "execution_count": null,
   "id": "35d13e91",
   "metadata": {},
   "outputs": [],
   "source": [
    "summarizer.summarize(n_samples=10, enrich=False)"
   ]
  }
 ],
 "metadata": {
  "kernelspec": {
   "display_name": "venv",
   "language": "python",
   "name": "python3"
  },
  "language_info": {
   "codemirror_mode": {
    "name": "ipython",
    "version": 3
   },
   "file_extension": ".py",
   "mimetype": "text/x-python",
   "name": "python",
   "nbconvert_exporter": "python",
   "pygments_lexer": "ipython3",
   "version": "3.12.3"
  }
 },
 "nbformat": 4,
 "nbformat_minor": 5
}
