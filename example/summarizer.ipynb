{
 "cells": [
  {
   "cell_type": "code",
   "execution_count": 1,
   "id": "1fe9dc95",
   "metadata": {},
   "outputs": [],
   "source": [
    "import sys\n",
    "\n",
    "sys.path.append(\"..\")"
   ]
  },
  {
   "cell_type": "code",
   "execution_count": 2,
   "id": "675146e9",
   "metadata": {},
   "outputs": [],
   "source": [
    "import polars as pl\n",
    "from mindscope.components import Summarizer"
   ]
  },
  {
   "cell_type": "code",
   "execution_count": 3,
   "id": "afd706b1",
   "metadata": {},
   "outputs": [],
   "source": [
    "df = pl.read_csv(\"../test/1000_rows_dataset.csv\")"
   ]
  },
  {
   "cell_type": "code",
   "execution_count": 4,
   "id": "d03db32f",
   "metadata": {},
   "outputs": [],
   "source": [
    "summarizer = Summarizer(data=df)"
   ]
  },
  {
   "cell_type": "code",
   "execution_count": 5,
   "id": "35d13e91",
   "metadata": {},
   "outputs": [
    {
     "data": {
      "text/plain": [
       "{'filename': '',\n",
       " 'name': '',\n",
       " 'description': '',\n",
       " 'columns': [{'column': 'product_id',\n",
       "   'type': 'numeric',\n",
       "   'dtype': 'Int64',\n",
       "   'min': 1000,\n",
       "   'max': 1999,\n",
       "   'mean': 1499.5,\n",
       "   'median': 1499.5,\n",
       "   'std': 288.8194360957494,\n",
       "   'null_count': 0,\n",
       "   'not_null_count': 1000,\n",
       "   'samples': [1549, 1804, 1084, 1142, 1099, 1427, 1683, 1418, 1044, 1612]},\n",
       "  {'column': 'price',\n",
       "   'type': 'numeric',\n",
       "   'dtype': 'Float64',\n",
       "   'min': 5.44,\n",
       "   'max': 99.97,\n",
       "   'mean': 51.57424,\n",
       "   'median': 52.195,\n",
       "   'std': 27.75315905369801,\n",
       "   'null_count': 0,\n",
       "   'not_null_count': 1000,\n",
       "   'samples': [89.29,\n",
       "    54.66,\n",
       "    15.25,\n",
       "    86.87,\n",
       "    98.72,\n",
       "    7.73,\n",
       "    11.04,\n",
       "    7.41,\n",
       "    83.08,\n",
       "    38.83]},\n",
       "  {'column': 'category',\n",
       "   'type': 'categorical string',\n",
       "   'dtype': 'String',\n",
       "   'categories': ['A', 'B', 'C', 'D'],\n",
       "   'n_categories': 4,\n",
       "   'null_count': 0,\n",
       "   'not_null_count': 1000,\n",
       "   'samples': ['C', 'A', 'D', 'A', 'C', 'C', 'D', 'D', 'D', 'D']},\n",
       "  {'column': 'in_stock',\n",
       "   'type': 'boolean',\n",
       "   'dtype': 'Boolean',\n",
       "   'true_count': 476,\n",
       "   'false_count': 524,\n",
       "   'null_count': 0,\n",
       "   'not_null_count': 1000,\n",
       "   'samples': [False,\n",
       "    False,\n",
       "    False,\n",
       "    True,\n",
       "    True,\n",
       "    True,\n",
       "    False,\n",
       "    True,\n",
       "    True,\n",
       "    False]},\n",
       "  {'column': 'launch_date',\n",
       "   'dtype': 'String',\n",
       "   'type': 'date-like string',\n",
       "   'min_date': datetime.datetime(2020, 1, 1, 0, 0),\n",
       "   'max_date': datetime.datetime(2025, 6, 22, 0, 0),\n",
       "   'null_count': 0,\n",
       "   'not_null_count': 1000,\n",
       "   'min_max_diff': datetime.timedelta(days=1999),\n",
       "   'parsed_success_rate': 1.0,\n",
       "   'samples': ['2022-02-22',\n",
       "    '2024-02-16',\n",
       "    '2020-01-15',\n",
       "    '2023-01-27',\n",
       "    '2021-03-14',\n",
       "    '2020-08-16',\n",
       "    '2025-01-22',\n",
       "    '2021-03-27',\n",
       "    '2023-10-07',\n",
       "    '2022-07-17']},\n",
       "  {'column': 'last_order',\n",
       "   'dtype': 'String',\n",
       "   'type': 'date-like string',\n",
       "   'min_date': datetime.datetime(2023, 1, 2, 0, 0),\n",
       "   'max_date': datetime.datetime(2025, 9, 24, 0, 0),\n",
       "   'null_count': 0,\n",
       "   'not_null_count': 1000,\n",
       "   'min_max_diff': datetime.timedelta(days=996),\n",
       "   'parsed_success_rate': 0.963,\n",
       "   'samples': ['2024-08-27',\n",
       "    'invalid-date',\n",
       "    '2023-02-07',\n",
       "    '2023-11-03',\n",
       "    '2024-05-27',\n",
       "    '2025-02-04',\n",
       "    '2023-03-17',\n",
       "    'invalid-date',\n",
       "    '2023-11-14',\n",
       "    '2024-08-30']},\n",
       "  {'column': 'status',\n",
       "   'type': 'categorical string',\n",
       "   'dtype': 'String',\n",
       "   'categories': ['active', 'discontinued', 'inactive'],\n",
       "   'n_categories': 3,\n",
       "   'null_count': 0,\n",
       "   'not_null_count': 1000,\n",
       "   'samples': ['active',\n",
       "    'active',\n",
       "    'active',\n",
       "    'active',\n",
       "    'discontinued',\n",
       "    'inactive',\n",
       "    'discontinued',\n",
       "    'inactive',\n",
       "    'inactive',\n",
       "    'active']}]}"
      ]
     },
     "execution_count": 5,
     "metadata": {},
     "output_type": "execute_result"
    }
   ],
   "source": [
    "summarizer.summarize(n_samples=10, enrich=False)"
   ]
  },
  {
   "cell_type": "code",
   "execution_count": null,
   "id": "27d567ce",
   "metadata": {},
   "outputs": [],
   "source": []
  }
 ],
 "metadata": {
  "kernelspec": {
   "display_name": "venv",
   "language": "python",
   "name": "python3"
  },
  "language_info": {
   "codemirror_mode": {
    "name": "ipython",
    "version": 3
   },
   "file_extension": ".py",
   "mimetype": "text/x-python",
   "name": "python",
   "nbconvert_exporter": "python",
   "pygments_lexer": "ipython3",
   "version": "3.12.3"
  }
 },
 "nbformat": 4,
 "nbformat_minor": 5
}
