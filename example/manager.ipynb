{
 "cells": [
  {
   "cell_type": "code",
   "execution_count": 1,
   "id": "cb2e7f89",
   "metadata": {},
   "outputs": [],
   "source": [
    "import sys\n",
    "\n",
    "sys.path.append(\"..\")"
   ]
  },
  {
   "cell_type": "code",
   "execution_count": 2,
   "id": "4c9d76cc",
   "metadata": {},
   "outputs": [],
   "source": [
    "from mindscope import Manager\n",
    "import polars as pl"
   ]
  },
  {
   "cell_type": "code",
   "execution_count": 3,
   "id": "44dc7107",
   "metadata": {},
   "outputs": [
    {
     "data": {
      "text/html": [
       "<div><style>\n",
       ".dataframe > thead > tr,\n",
       ".dataframe > tbody > tr {\n",
       "  text-align: right;\n",
       "  white-space: pre-wrap;\n",
       "}\n",
       "</style>\n",
       "<small>shape: (5, 7)</small><table border=\"1\" class=\"dataframe\"><thead><tr><th>product_id</th><th>price</th><th>category</th><th>in_stock</th><th>launch_date</th><th>last_order</th><th>status</th></tr><tr><td>i64</td><td>f64</td><td>str</td><td>bool</td><td>str</td><td>str</td><td>str</td></tr></thead><tbody><tr><td>1000</td><td>40.58</td><td>&quot;C&quot;</td><td>false</td><td>&quot;2023-08-02&quot;</td><td>&quot;2025-06-19&quot;</td><td>&quot;discontinued&quot;</td></tr><tr><td>1001</td><td>95.32</td><td>&quot;D&quot;</td><td>false</td><td>&quot;2020-08-16&quot;</td><td>&quot;2025-02-09&quot;</td><td>&quot;discontinued&quot;</td></tr><tr><td>1002</td><td>74.54</td><td>&quot;B&quot;</td><td>false</td><td>&quot;2020-02-21&quot;</td><td>&quot;2024-03-07&quot;</td><td>&quot;discontinued&quot;</td></tr><tr><td>1003</td><td>61.87</td><td>&quot;D&quot;</td><td>false</td><td>&quot;2024-02-27&quot;</td><td>&quot;2023-03-25&quot;</td><td>&quot;inactive&quot;</td></tr><tr><td>1004</td><td>19.82</td><td>&quot;D&quot;</td><td>true</td><td>&quot;2021-07-17&quot;</td><td>&quot;2025-02-06&quot;</td><td>&quot;inactive&quot;</td></tr></tbody></table></div>"
      ],
      "text/plain": [
       "shape: (5, 7)\n",
       "┌────────────┬───────┬──────────┬──────────┬─────────────┬────────────┬──────────────┐\n",
       "│ product_id ┆ price ┆ category ┆ in_stock ┆ launch_date ┆ last_order ┆ status       │\n",
       "│ ---        ┆ ---   ┆ ---      ┆ ---      ┆ ---         ┆ ---        ┆ ---          │\n",
       "│ i64        ┆ f64   ┆ str      ┆ bool     ┆ str         ┆ str        ┆ str          │\n",
       "╞════════════╪═══════╪══════════╪══════════╪═════════════╪════════════╪══════════════╡\n",
       "│ 1000       ┆ 40.58 ┆ C        ┆ false    ┆ 2023-08-02  ┆ 2025-06-19 ┆ discontinued │\n",
       "│ 1001       ┆ 95.32 ┆ D        ┆ false    ┆ 2020-08-16  ┆ 2025-02-09 ┆ discontinued │\n",
       "│ 1002       ┆ 74.54 ┆ B        ┆ false    ┆ 2020-02-21  ┆ 2024-03-07 ┆ discontinued │\n",
       "│ 1003       ┆ 61.87 ┆ D        ┆ false    ┆ 2024-02-27  ┆ 2023-03-25 ┆ inactive     │\n",
       "│ 1004       ┆ 19.82 ┆ D        ┆ true     ┆ 2021-07-17  ┆ 2025-02-06 ┆ inactive     │\n",
       "└────────────┴───────┴──────────┴──────────┴─────────────┴────────────┴──────────────┘"
      ]
     },
     "execution_count": 3,
     "metadata": {},
     "output_type": "execute_result"
    }
   ],
   "source": [
    "df = pl.read_csv('../test/1000_rows_dataset.csv')\n",
    "df.head()"
   ]
  },
  {
   "cell_type": "code",
   "execution_count": 4,
   "id": "e89f5d9c",
   "metadata": {},
   "outputs": [
    {
     "data": {
      "text/plain": [
       "<mindscope.components.manager.Manager at 0x1f9019b5dc0>"
      ]
     },
     "execution_count": 4,
     "metadata": {},
     "output_type": "execute_result"
    }
   ],
   "source": [
    "manager = Manager()\n",
    "manager"
   ]
  },
  {
   "cell_type": "code",
   "execution_count": 5,
   "id": "ac7c3919",
   "metadata": {},
   "outputs": [
    {
     "data": {
      "text/plain": [
       "{'_data': shape: (0, 0)\n",
       " ┌┐\n",
       " ╞╡\n",
       " └┘,\n",
       " '_filepath': '',\n",
       " 'summarizer': None}"
      ]
     },
     "execution_count": 5,
     "metadata": {},
     "output_type": "execute_result"
    }
   ],
   "source": [
    "manager.__dict__"
   ]
  },
  {
   "cell_type": "code",
   "execution_count": 6,
   "id": "d0a69871",
   "metadata": {},
   "outputs": [
    {
     "data": {
      "text/plain": [
       "{'_data': shape: (1_000, 7)\n",
       " ┌────────────┬───────┬──────────┬──────────┬─────────────┬────────────┬──────────────┐\n",
       " │ product_id ┆ price ┆ category ┆ in_stock ┆ launch_date ┆ last_order ┆ status       │\n",
       " │ ---        ┆ ---   ┆ ---      ┆ ---      ┆ ---         ┆ ---        ┆ ---          │\n",
       " │ i64        ┆ f64   ┆ str      ┆ bool     ┆ str         ┆ str        ┆ str          │\n",
       " ╞════════════╪═══════╪══════════╪══════════╪═════════════╪════════════╪══════════════╡\n",
       " │ 1000       ┆ 40.58 ┆ C        ┆ false    ┆ 2023-08-02  ┆ 2025-06-19 ┆ discontinued │\n",
       " │ 1001       ┆ 95.32 ┆ D        ┆ false    ┆ 2020-08-16  ┆ 2025-02-09 ┆ discontinued │\n",
       " │ 1002       ┆ 74.54 ┆ B        ┆ false    ┆ 2020-02-21  ┆ 2024-03-07 ┆ discontinued │\n",
       " │ 1003       ┆ 61.87 ┆ D        ┆ false    ┆ 2024-02-27  ┆ 2023-03-25 ┆ inactive     │\n",
       " │ 1004       ┆ 19.82 ┆ D        ┆ true     ┆ 2021-07-17  ┆ 2025-02-06 ┆ inactive     │\n",
       " │ …          ┆ …     ┆ …        ┆ …        ┆ …           ┆ …          ┆ …            │\n",
       " │ 1995       ┆ 13.7  ┆ A        ┆ false    ┆ 2022-02-15  ┆ 2025-06-16 ┆ inactive     │\n",
       " │ 1996       ┆ 92.14 ┆ C        ┆ false    ┆ 2021-11-01  ┆ 2024-11-07 ┆ discontinued │\n",
       " │ 1997       ┆ 18.0  ┆ A        ┆ false    ┆ 2021-03-09  ┆ 2024-02-28 ┆ inactive     │\n",
       " │ 1998       ┆ 95.27 ┆ B        ┆ false    ┆ 2022-07-20  ┆ 2023-03-04 ┆ active       │\n",
       " │ 1999       ┆ 47.37 ┆ D        ┆ false    ┆ 2021-10-31  ┆ 2024-08-28 ┆ inactive     │\n",
       " └────────────┴───────┴──────────┴──────────┴─────────────┴────────────┴──────────────┘,\n",
       " '_filepath': '',\n",
       " 'summarizer': None}"
      ]
     },
     "execution_count": 6,
     "metadata": {},
     "output_type": "execute_result"
    }
   ],
   "source": [
    "manager.data = df\n",
    "manager.__dict__"
   ]
  },
  {
   "cell_type": "code",
   "execution_count": 7,
   "id": "6a29ac64",
   "metadata": {},
   "outputs": [
    {
     "data": {
      "text/plain": [
       "{'_data': shape: (1_000, 7)\n",
       " ┌────────────┬───────┬──────────┬──────────┬─────────────┬────────────┬──────────────┐\n",
       " │ product_id ┆ price ┆ category ┆ in_stock ┆ launch_date ┆ last_order ┆ status       │\n",
       " │ ---        ┆ ---   ┆ ---      ┆ ---      ┆ ---         ┆ ---        ┆ ---          │\n",
       " │ i64        ┆ f64   ┆ str      ┆ bool     ┆ str         ┆ str        ┆ str          │\n",
       " ╞════════════╪═══════╪══════════╪══════════╪═════════════╪════════════╪══════════════╡\n",
       " │ 1000       ┆ 40.58 ┆ C        ┆ false    ┆ 2023-08-02  ┆ 2025-06-19 ┆ discontinued │\n",
       " │ 1001       ┆ 95.32 ┆ D        ┆ false    ┆ 2020-08-16  ┆ 2025-02-09 ┆ discontinued │\n",
       " │ 1002       ┆ 74.54 ┆ B        ┆ false    ┆ 2020-02-21  ┆ 2024-03-07 ┆ discontinued │\n",
       " │ 1003       ┆ 61.87 ┆ D        ┆ false    ┆ 2024-02-27  ┆ 2023-03-25 ┆ inactive     │\n",
       " │ 1004       ┆ 19.82 ┆ D        ┆ true     ┆ 2021-07-17  ┆ 2025-02-06 ┆ inactive     │\n",
       " │ …          ┆ …     ┆ …        ┆ …        ┆ …           ┆ …          ┆ …            │\n",
       " │ 1995       ┆ 13.7  ┆ A        ┆ false    ┆ 2022-02-15  ┆ 2025-06-16 ┆ inactive     │\n",
       " │ 1996       ┆ 92.14 ┆ C        ┆ false    ┆ 2021-11-01  ┆ 2024-11-07 ┆ discontinued │\n",
       " │ 1997       ┆ 18.0  ┆ A        ┆ false    ┆ 2021-03-09  ┆ 2024-02-28 ┆ inactive     │\n",
       " │ 1998       ┆ 95.27 ┆ B        ┆ false    ┆ 2022-07-20  ┆ 2023-03-04 ┆ active       │\n",
       " │ 1999       ┆ 47.37 ┆ D        ┆ false    ┆ 2021-10-31  ┆ 2024-08-28 ┆ inactive     │\n",
       " └────────────┴───────┴──────────┴──────────┴─────────────┴────────────┴──────────────┘,\n",
       " '_filepath': '',\n",
       " 'summarizer': <mindscope.components.summarizer.Summarizer at 0x1f901e2a2d0>}"
      ]
     },
     "execution_count": 7,
     "metadata": {},
     "output_type": "execute_result"
    }
   ],
   "source": [
    "manager.summarize()\n",
    "manager.__dict__"
   ]
  },
  {
   "cell_type": "code",
   "execution_count": 8,
   "id": "af2c2d4f",
   "metadata": {},
   "outputs": [
    {
     "data": {
      "text/plain": [
       "{'summary': {'filename': '',\n",
       "  'name': '',\n",
       "  'description': '',\n",
       "  'columns': [{'column': 'product_id',\n",
       "    'type': 'numeric',\n",
       "    'dtype': 'Int64',\n",
       "    'min': 1000,\n",
       "    'max': 1999,\n",
       "    'mean': 1499.5,\n",
       "    'median': 1499.5,\n",
       "    'std': 288.8194360957494,\n",
       "    'null_count': 0,\n",
       "    'not_null_count': 1000,\n",
       "    'samples': [1381, 1380, 1984, 1102, 1822]},\n",
       "   {'column': 'price',\n",
       "    'type': 'numeric',\n",
       "    'dtype': 'Float64',\n",
       "    'min': 5.44,\n",
       "    'max': 99.97,\n",
       "    'mean': 51.57424,\n",
       "    'median': 52.195,\n",
       "    'std': 27.75315905369801,\n",
       "    'null_count': 0,\n",
       "    'not_null_count': 1000,\n",
       "    'samples': [46.43, 24.6, 27.58, 37.9, 13.67]},\n",
       "   {'column': 'category',\n",
       "    'type': 'categorical string',\n",
       "    'dtype': 'String',\n",
       "    'categories': ['A', 'B', 'C', 'D'],\n",
       "    'n_categories': 4,\n",
       "    'null_count': 0,\n",
       "    'not_null_count': 1000,\n",
       "    'samples': ['C', 'C', 'A', 'A', 'B']},\n",
       "   {'column': 'in_stock',\n",
       "    'type': 'boolean',\n",
       "    'dtype': 'Boolean',\n",
       "    'true_count': 476,\n",
       "    'false_count': 524,\n",
       "    'null_count': 0,\n",
       "    'not_null_count': 1000,\n",
       "    'samples': [False, True, False, True, False]},\n",
       "   {'column': 'launch_date',\n",
       "    'dtype': 'String',\n",
       "    'type': 'date-like string',\n",
       "    'min_date': datetime.datetime(2020, 1, 1, 0, 0),\n",
       "    'max_date': datetime.datetime(2025, 6, 22, 0, 0),\n",
       "    'null_count': 0,\n",
       "    'not_null_count': 1000,\n",
       "    'min_max_diff': datetime.timedelta(days=1999),\n",
       "    'parsed_success_rate': 1.0,\n",
       "    'samples': ['2025-01-14',\n",
       "     '2024-10-28',\n",
       "     '2024-09-28',\n",
       "     '2022-03-17',\n",
       "     '2025-03-10']},\n",
       "   {'column': 'last_order',\n",
       "    'dtype': 'String',\n",
       "    'type': 'date-like string',\n",
       "    'min_date': datetime.datetime(2023, 1, 2, 0, 0),\n",
       "    'max_date': datetime.datetime(2025, 9, 24, 0, 0),\n",
       "    'null_count': 0,\n",
       "    'not_null_count': 1000,\n",
       "    'min_max_diff': datetime.timedelta(days=996),\n",
       "    'parsed_success_rate': 0.963,\n",
       "    'samples': ['2025-08-09',\n",
       "     '2024-03-13',\n",
       "     '2025-03-07',\n",
       "     'invalid-date',\n",
       "     '2024-04-07']},\n",
       "   {'column': 'status',\n",
       "    'type': 'categorical string',\n",
       "    'dtype': 'String',\n",
       "    'categories': ['active', 'discontinued', 'inactive'],\n",
       "    'n_categories': 3,\n",
       "    'null_count': 0,\n",
       "    'not_null_count': 1000,\n",
       "    'samples': ['discontinued',\n",
       "     'inactive',\n",
       "     'discontinued',\n",
       "     'inactive',\n",
       "     'active']}]},\n",
       " 'data': shape: (1_000, 7)\n",
       " ┌────────────┬───────┬──────────┬──────────┬─────────────┬────────────┬──────────────┐\n",
       " │ product_id ┆ price ┆ category ┆ in_stock ┆ launch_date ┆ last_order ┆ status       │\n",
       " │ ---        ┆ ---   ┆ ---      ┆ ---      ┆ ---         ┆ ---        ┆ ---          │\n",
       " │ i64        ┆ f64   ┆ str      ┆ bool     ┆ str         ┆ str        ┆ str          │\n",
       " ╞════════════╪═══════╪══════════╪══════════╪═════════════╪════════════╪══════════════╡\n",
       " │ 1000       ┆ 40.58 ┆ C        ┆ false    ┆ 2023-08-02  ┆ 2025-06-19 ┆ discontinued │\n",
       " │ 1001       ┆ 95.32 ┆ D        ┆ false    ┆ 2020-08-16  ┆ 2025-02-09 ┆ discontinued │\n",
       " │ 1002       ┆ 74.54 ┆ B        ┆ false    ┆ 2020-02-21  ┆ 2024-03-07 ┆ discontinued │\n",
       " │ 1003       ┆ 61.87 ┆ D        ┆ false    ┆ 2024-02-27  ┆ 2023-03-25 ┆ inactive     │\n",
       " │ 1004       ┆ 19.82 ┆ D        ┆ true     ┆ 2021-07-17  ┆ 2025-02-06 ┆ inactive     │\n",
       " │ …          ┆ …     ┆ …        ┆ …        ┆ …           ┆ …          ┆ …            │\n",
       " │ 1995       ┆ 13.7  ┆ A        ┆ false    ┆ 2022-02-15  ┆ 2025-06-16 ┆ inactive     │\n",
       " │ 1996       ┆ 92.14 ┆ C        ┆ false    ┆ 2021-11-01  ┆ 2024-11-07 ┆ discontinued │\n",
       " │ 1997       ┆ 18.0  ┆ A        ┆ false    ┆ 2021-03-09  ┆ 2024-02-28 ┆ inactive     │\n",
       " │ 1998       ┆ 95.27 ┆ B        ┆ false    ┆ 2022-07-20  ┆ 2023-03-04 ┆ active       │\n",
       " │ 1999       ┆ 47.37 ┆ D        ┆ false    ┆ 2021-10-31  ┆ 2024-08-28 ┆ inactive     │\n",
       " └────────────┴───────┴──────────┴──────────┴─────────────┴────────────┴──────────────┘,\n",
       " 'N_ROWS': 1000,\n",
       " 'N_COLUMNS': 7,\n",
       " 'filename': '',\n",
       " 'CATEGORICAL_THRESHOLD': 0.05,\n",
       " 'DATE_LIKE_THRESHOLD': 0.9,\n",
       " 'CATEGORICAL_UNIQUE_LIMIT': 50}"
      ]
     },
     "execution_count": 8,
     "metadata": {},
     "output_type": "execute_result"
    }
   ],
   "source": [
    "manager.summarizer.__dict__"
   ]
  },
  {
   "cell_type": "code",
   "execution_count": 9,
   "id": "f67137e3",
   "metadata": {},
   "outputs": [
    {
     "data": {
      "text/plain": [
       "Summary(filename='', name='', description='This dataset contains information about products, including their identifiers, pricing, availability, launch dates, and status. It is structured to provide insights into product characteristics and sales metrics.', columns=[Column(column='product_id', type='numeric', dtype='Int64', min=1000.0, max=1999.0, mean=1499.5, median=1499.5, std=288.8194360957494, null_count=0, not_null_count=1000, samples=[1381, 1380, 1984, 1102, 1822], summary='The product_id is a numeric identifier ranging from 1000 to 1999, with a mean value of 1499.5 and no missing values.'), Column(column='price', type='numeric', dtype='Float64', min=5.44, max=99.97, mean=51.57424, median=52.195, std=27.75315905369801, null_count=0, not_null_count=1000, samples=[46.43, 24.6, 27.58, 37.9, 13.67], summary='The price column contains float values ranging from 5.44 to 99.97, with an average price of approximately 51.57.'), Column(column='category', type='categorical string', dtype='String', min=None, max=None, mean=None, median=None, std=None, null_count=0, not_null_count=1000, samples=['C', 'C', 'A', 'A', 'B'], summary='The category column classifies products into four categories: A, B, C, and D, with no missing values.', categories=['A', 'B', 'C', 'D'], n_categories=4), Column(column='in_stock', type='boolean', dtype='Boolean', min=None, max=None, mean=None, median=None, std=None, null_count=0, not_null_count=1000, samples=[False, True, False, True, False], summary='The in_stock column indicates product availability, with 476 products in stock and 524 out of stock.', true_count=476, false_count=524), Column(column='launch_date', type='date-like string', dtype='String', min=None, max=None, mean=None, median=None, std=None, null_count=0, not_null_count=1000, samples=['2025-01-14', '2024-10-28', '2024-09-28', '2022-03-17', '2025-03-10'], summary='The launch_date column records the dates when products were launched, spanning from January 1, 2020, to June 22, 2025.', min_date='2020-01-01T00:00:00', max_date='2025-06-22T00:00:00', min_max_diff='1999 days, 0:00:00', parsed_success_rate=1.0), Column(column='last_order', type='date-like string', dtype='String', min=None, max=None, mean=None, median=None, std=None, null_count=0, not_null_count=1000, samples=['2025-08-09', '2024-03-13', '2025-03-07', 'invalid-date', '2024-04-07'], summary='The last_order column captures the dates of the last orders placed for products, with a range from January 2, 2023, to September 24, 2025.', min_date='2023-01-02T00:00:00', max_date='2025-09-24T00:00:00', min_max_diff='996 days, 0:00:00', parsed_success_rate=0.963), Column(column='status', type='categorical string', dtype='String', min=None, max=None, mean=None, median=None, std=None, null_count=0, not_null_count=1000, samples=['discontinued', 'inactive', 'discontinued', 'inactive', 'active'], summary='The status column indicates the current state of products, categorized as active, discontinued, or inactive.', categories=['active', 'discontinued', 'inactive'], n_categories=3)])"
      ]
     },
     "execution_count": 9,
     "metadata": {},
     "output_type": "execute_result"
    }
   ],
   "source": [
    "manager.summarize(enrich=True)"
   ]
  },
  {
   "cell_type": "code",
   "execution_count": null,
   "id": "0b2de71a",
   "metadata": {},
   "outputs": [],
   "source": [
    "Summary(\n",
    "    filename=\"\",\n",
    "    name=\"\",\n",
    "    description=\"This dataset contains information about products, including their identifiers, pricing, availability, launch dates, and status. It is structured to provide insights into product characteristics and sales metrics.\",\n",
    "    columns=[\n",
    "        Column(\n",
    "            column=\"product_id\",\n",
    "            type=\"numeric\",\n",
    "            dtype=\"Int64\",\n",
    "            min=1000.0,\n",
    "            max=1999.0,\n",
    "            mean=1499.5,\n",
    "            median=1499.5,\n",
    "            std=288.8194360957494,\n",
    "            null_count=0,\n",
    "            not_null_count=1000,\n",
    "            samples=[1381, 1380, 1984, 1102, 1822],\n",
    "            summary=\"The product_id is a numeric identifier ranging from 1000 to 1999, with a mean value of 1499.5 and no missing values.\",\n",
    "        ),\n",
    "        Column(\n",
    "            column=\"price\",\n",
    "            type=\"numeric\",\n",
    "            dtype=\"Float64\",\n",
    "            min=5.44,\n",
    "            max=99.97,\n",
    "            mean=51.57424,\n",
    "            median=52.195,\n",
    "            std=27.75315905369801,\n",
    "            null_count=0,\n",
    "            not_null_count=1000,\n",
    "            samples=[46.43, 24.6, 27.58, 37.9, 13.67],\n",
    "            summary=\"The price column contains float values ranging from 5.44 to 99.97, with an average price of approximately 51.57.\",\n",
    "        ),\n",
    "        Column(\n",
    "            column=\"category\",\n",
    "            type=\"categorical string\",\n",
    "            dtype=\"String\",\n",
    "            min=None,\n",
    "            max=None,\n",
    "            mean=None,\n",
    "            median=None,\n",
    "            std=None,\n",
    "            null_count=0,\n",
    "            not_null_count=1000,\n",
    "            samples=[\"C\", \"C\", \"A\", \"A\", \"B\"],\n",
    "            summary=\"The category column classifies products into four categories: A, B, C, and D, with no missing values.\",\n",
    "            categories=[\"A\", \"B\", \"C\", \"D\"],\n",
    "            n_categories=4,\n",
    "        ),\n",
    "        Column(\n",
    "            column=\"in_stock\",\n",
    "            type=\"boolean\",\n",
    "            dtype=\"Boolean\",\n",
    "            min=None,\n",
    "            max=None,\n",
    "            mean=None,\n",
    "            median=None,\n",
    "            std=None,\n",
    "            null_count=0,\n",
    "            not_null_count=1000,\n",
    "            samples=[False, True, False, True, False],\n",
    "            summary=\"The in_stock column indicates product availability, with 476 products in stock and 524 out of stock.\",\n",
    "            true_count=476,\n",
    "            false_count=524,\n",
    "        ),\n",
    "        Column(\n",
    "            column=\"launch_date\",\n",
    "            type=\"date-like string\",\n",
    "            dtype=\"String\",\n",
    "            min=None,\n",
    "            max=None,\n",
    "            mean=None,\n",
    "            median=None,\n",
    "            std=None,\n",
    "            null_count=0,\n",
    "            not_null_count=1000,\n",
    "            samples=[\n",
    "                \"2025-01-14\",\n",
    "                \"2024-10-28\",\n",
    "                \"2024-09-28\",\n",
    "                \"2022-03-17\",\n",
    "                \"2025-03-10\",\n",
    "            ],\n",
    "            summary=\"The launch_date column records the dates when products were launched, spanning from January 1, 2020, to June 22, 2025.\",\n",
    "            min_date=\"2020-01-01T00:00:00\",\n",
    "            max_date=\"2025-06-22T00:00:00\",\n",
    "            min_max_diff=\"1999 days, 0:00:00\",\n",
    "            parsed_success_rate=1.0,\n",
    "        ),\n",
    "        Column(\n",
    "            column=\"last_order\",\n",
    "            type=\"date-like string\",\n",
    "            dtype=\"String\",\n",
    "            min=None,\n",
    "            max=None,\n",
    "            mean=None,\n",
    "            median=None,\n",
    "            std=None,\n",
    "            null_count=0,\n",
    "            not_null_count=1000,\n",
    "            samples=[\n",
    "                \"2025-08-09\",\n",
    "                \"2024-03-13\",\n",
    "                \"2025-03-07\",\n",
    "                \"invalid-date\",\n",
    "                \"2024-04-07\",\n",
    "            ],\n",
    "            summary=\"The last_order column captures the dates of the last orders placed for products, with a range from January 2, 2023, to September 24, 2025.\",\n",
    "            min_date=\"2023-01-02T00:00:00\",\n",
    "            max_date=\"2025-09-24T00:00:00\",\n",
    "            min_max_diff=\"996 days, 0:00:00\",\n",
    "            parsed_success_rate=0.963,\n",
    "        ),\n",
    "        Column(\n",
    "            column=\"status\",\n",
    "            type=\"categorical string\",\n",
    "            dtype=\"String\",\n",
    "            min=None,\n",
    "            max=None,\n",
    "            mean=None,\n",
    "            median=None,\n",
    "            std=None,\n",
    "            null_count=0,\n",
    "            not_null_count=1000,\n",
    "            samples=[\"discontinued\", \"inactive\", \"discontinued\", \"inactive\", \"active\"],\n",
    "            summary=\"The status column indicates the current state of products, categorized as active, discontinued, or inactive.\",\n",
    "            categories=[\"active\", \"discontinued\", \"inactive\"],\n",
    "            n_categories=3,\n",
    "        ),\n",
    "    ],\n",
    ")"
   ]
  }
 ],
 "metadata": {
  "kernelspec": {
   "display_name": "venv",
   "language": "python",
   "name": "python3"
  },
  "language_info": {
   "codemirror_mode": {
    "name": "ipython",
    "version": 3
   },
   "file_extension": ".py",
   "mimetype": "text/x-python",
   "name": "python",
   "nbconvert_exporter": "python",
   "pygments_lexer": "ipython3",
   "version": "3.12.3"
  }
 },
 "nbformat": 4,
 "nbformat_minor": 5
}
