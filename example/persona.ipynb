{
 "cells": [
  {
   "cell_type": "code",
   "execution_count": 1,
   "id": "eea052db",
   "metadata": {},
   "outputs": [],
   "source": [
    "import sys\n",
    "\n",
    "sys.path.append('..')"
   ]
  },
  {
   "cell_type": "code",
   "execution_count": 2,
   "id": "8f457c37",
   "metadata": {},
   "outputs": [],
   "source": [
    "from mindscope import Persona"
   ]
  },
  {
   "cell_type": "code",
   "execution_count": 3,
   "id": "5e91548c",
   "metadata": {},
   "outputs": [],
   "source": [
    "persona = Persona('Test Persona')"
   ]
  },
  {
   "cell_type": "code",
   "execution_count": 4,
   "id": "df75e37e",
   "metadata": {},
   "outputs": [],
   "source": [
    "persona.description = \"Write description of persona (what does persona do, its role and something which describes persona)\"\n",
    "persona.goals = [\n",
    "    \"Goal what persona want's to achieve\",\n",
    "    \"Goal 2\",\n",
    "    \"Goal 3\",\n",
    "]\n",
    "persona.pain_points = [\n",
    "    \"What are persona's concerns\",\n",
    "    \"pain point 2\",\n",
    "    \"pain point 3\",\n",
    "]\n",
    "persona.preferences = {\n",
    "    \"tone\": \"how does the persona whats\",\n",
    "    \"detail_level\": \"medium\",\n",
    "}"
   ]
  },
  {
   "cell_type": "code",
   "execution_count": 5,
   "id": "d9ddd413",
   "metadata": {},
   "outputs": [],
   "source": [
    "# print(Persona.readable_file_formats)"
   ]
  },
  {
   "cell_type": "code",
   "execution_count": 6,
   "id": "c8fdee02",
   "metadata": {},
   "outputs": [
    {
     "data": {
      "text/plain": [
       "{'name': 'Test Persona',\n",
       " 'description': 'Write description of persona (what does persona do, its role and something which describes persona)',\n",
       " 'goals': [\"Goal what persona want's to achieve\", 'Goal 2', 'Goal 3'],\n",
       " 'pain_points': [\"What are persona's concerns\",\n",
       "  'pain point 2',\n",
       "  'pain point 3'],\n",
       " 'preference': {'tone': 'how does the persona whats',\n",
       "  'detail_level': 'medium'},\n",
       " 'trait': None}"
      ]
     },
     "execution_count": 6,
     "metadata": {},
     "output_type": "execute_result"
    }
   ],
   "source": [
    "persona.__str__()\n",
    "persona.to_dict()"
   ]
  },
  {
   "cell_type": "code",
   "execution_count": 7,
   "id": "2985b212",
   "metadata": {},
   "outputs": [],
   "source": [
    "json_persona = Persona.from_file_path(\"json_persona.json\")"
   ]
  },
  {
   "cell_type": "code",
   "execution_count": 10,
   "id": "4520fbc1",
   "metadata": {},
   "outputs": [
    {
     "data": {
      "text/plain": [
       "Persona(Chief Financial Officer)"
      ]
     },
     "execution_count": 10,
     "metadata": {},
     "output_type": "execute_result"
    }
   ],
   "source": [
    "json_persona"
   ]
  },
  {
   "cell_type": "code",
   "execution_count": 9,
   "id": "8c9a4828",
   "metadata": {},
   "outputs": [
    {
     "data": {
      "text/plain": [
       "{'name': 'Chief Financial Officer',\n",
       " 'description': 'A senior executive overseeing financial planning, compliance, and profitability.',\n",
       " 'goals': ['Maintain financial health and stability',\n",
       "  'Ensure compliance with regulations',\n",
       "  'Identify opportunities for cost savings',\n",
       "  'Support sustainable growth'],\n",
       " 'pain_points': ['Unclear ROI from initiatives',\n",
       "  'Fragmented financial reporting',\n",
       "  'Pressure to reduce costs while driving growth'],\n",
       " 'preference': {'tone': 'professional', 'detail_level': 'low'},\n",
       " 'trait': None}"
      ]
     },
     "execution_count": 9,
     "metadata": {},
     "output_type": "execute_result"
    }
   ],
   "source": [
    "json_persona.to_dict()"
   ]
  }
 ],
 "metadata": {
  "kernelspec": {
   "display_name": "venv",
   "language": "python",
   "name": "python3"
  },
  "language_info": {
   "codemirror_mode": {
    "name": "ipython",
    "version": 3
   },
   "file_extension": ".py",
   "mimetype": "text/x-python",
   "name": "python",
   "nbconvert_exporter": "python",
   "pygments_lexer": "ipython3",
   "version": "3.12.3"
  }
 },
 "nbformat": 4,
 "nbformat_minor": 5
}
